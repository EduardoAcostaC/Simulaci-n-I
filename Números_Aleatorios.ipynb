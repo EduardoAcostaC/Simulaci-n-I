{
  "nbformat": 4,
  "nbformat_minor": 0,
  "metadata": {
    "colab": {
      "provenance": [],
      "authorship_tag": "ABX9TyMwqq1xejEufl+SHRUYXe8E",
      "include_colab_link": true
    },
    "kernelspec": {
      "name": "python3",
      "display_name": "Python 3"
    },
    "language_info": {
      "name": "python"
    }
  },
  "cells": [
    {
      "cell_type": "markdown",
      "metadata": {
        "id": "view-in-github",
        "colab_type": "text"
      },
      "source": [
        "<a href=\"https://colab.research.google.com/github/EduardoAcostaC/Simulacion-I/blob/main/N%C3%BAmeros_Aleatorios.ipynb\" target=\"_parent\"><img src=\"https://colab.research.google.com/assets/colab-badge.svg\" alt=\"Open In Colab\"/></a>"
      ]
    },
    {
      "cell_type": "markdown",
      "source": [
        "** Numeros aleatorios **"
      ],
      "metadata": {
        "id": "JGxShSKGVo4C"
      }
    },
    {
      "cell_type": "markdown",
      "source": [
        "Generador Congruencial \\\n",
        "*$x_{n+1} =  (a*x_n + c) \\mod m $ * \\\\\n",
        "${x_0}, a, c, m$ son constantes enteras."
      ],
      "metadata": {
        "id": "Cqpzh6tAZPZ_"
      }
    },
    {
      "cell_type": "code",
      "source": [
        "import pandas as pd\n",
        "import tabulate as tb\n",
        "\n",
        "a = 16;\n",
        "c = 203;\n",
        "m = 22;\n",
        "x_0 = 3;\n",
        "n = 30;\n",
        "i=0;\n",
        "muestra = [];\n",
        "\n",
        "# Funcion Generadora\n",
        "def generador(a,c,m,x_0):\n",
        "        x= (a*x_0 + c) % m;\n",
        "        return x;\n",
        "\n",
        "# Solo imprime una iteracion\n",
        "print(generador(a,c,m,x_0));\n",
        "\n",
        "# Imprime las n iteraciones de la funcion\n",
        "for i in range(n):\n",
        "    x_0 = generador(a,c,m,x_0);\n",
        "    print(x_0);\n",
        "\n",
        "# Por iteracion\n",
        "for i in range(n):\n",
        "    x_1 = (a*x_0 + c) % m;\n",
        "    x_0 = x_1;\n",
        "    print(x_1);\n",
        "\n",
        "# Por arreglo en pandas\n",
        "for i in range(n):\n",
        "    nuevo = generador(a,c,m,x_0);\n",
        "    muestra.append([i,x_0,nuevo,nuevo/m]);\n",
        "    x_0 = nuevo;\n",
        "\n",
        "df = pd.DataFrame(muestra, columns= [\"Iteracion\", \"Xn\", \"X_n+1\", \"Xn/m\"]);\n",
        "print(df);\n",
        "\n",
        "# Por areglo en Tabulate\n",
        "# for i in range(n):\n",
        "#     nuevo = generador(a,c,m,x_0);\n",
        "#     muestra.append([i,x_0,nuevo/m]);\n",
        "#     x_0 = nuevo;\n",
        "# encabezados = [\"i\", \"X_i\", \"X_i+1\"];\n",
        "# print(tb.tabulate(muestra, headers=encabezados, tablefmt=\"fancy_grid\"));"
      ],
      "metadata": {
        "colab": {
          "base_uri": "https://localhost:8080/"
        },
        "id": "zGnMXt3SbxzG",
        "outputId": "214ef128-3cd5-4290-e7af-ca91a791d132",
        "collapsed": true
      },
      "execution_count": 5,
      "outputs": [
        {
          "output_type": "stream",
          "name": "stdout",
          "text": [
            "9\n",
            "9\n",
            "17\n",
            "13\n",
            "15\n",
            "3\n",
            "9\n",
            "17\n",
            "13\n",
            "15\n",
            "3\n",
            "9\n",
            "17\n",
            "13\n",
            "15\n",
            "3\n",
            "9\n",
            "17\n",
            "13\n",
            "15\n",
            "3\n",
            "9\n",
            "17\n",
            "13\n",
            "15\n",
            "3\n",
            "9\n",
            "17\n",
            "13\n",
            "15\n",
            "3\n",
            "9\n",
            "17\n",
            "13\n",
            "15\n",
            "3\n",
            "9\n",
            "17\n",
            "13\n",
            "15\n",
            "3\n",
            "9\n",
            "17\n",
            "13\n",
            "15\n",
            "3\n",
            "9\n",
            "17\n",
            "13\n",
            "15\n",
            "3\n",
            "9\n",
            "17\n",
            "13\n",
            "15\n",
            "3\n",
            "9\n",
            "17\n",
            "13\n",
            "15\n",
            "3\n",
            "    Iteracion  Xn  X_n+1      Xn/m\n",
            "0           0   3      9  0.409091\n",
            "1           1   9     17  0.772727\n",
            "2           2  17     13  0.590909\n",
            "3           3  13     15  0.681818\n",
            "4           4  15      3  0.136364\n",
            "5           5   3      9  0.409091\n",
            "6           6   9     17  0.772727\n",
            "7           7  17     13  0.590909\n",
            "8           8  13     15  0.681818\n",
            "9           9  15      3  0.136364\n",
            "10         10   3      9  0.409091\n",
            "11         11   9     17  0.772727\n",
            "12         12  17     13  0.590909\n",
            "13         13  13     15  0.681818\n",
            "14         14  15      3  0.136364\n",
            "15         15   3      9  0.409091\n",
            "16         16   9     17  0.772727\n",
            "17         17  17     13  0.590909\n",
            "18         18  13     15  0.681818\n",
            "19         19  15      3  0.136364\n",
            "20         20   3      9  0.409091\n",
            "21         21   9     17  0.772727\n",
            "22         22  17     13  0.590909\n",
            "23         23  13     15  0.681818\n",
            "24         24  15      3  0.136364\n",
            "25         25   3      9  0.409091\n",
            "26         26   9     17  0.772727\n",
            "27         27  17     13  0.590909\n",
            "28         28  13     15  0.681818\n",
            "29         29  15      3  0.136364\n"
          ]
        }
      ]
    },
    {
      "cell_type": "code",
      "source": [
        "import pandas as pd\n",
        "import tabulate as tb\n",
        "import matplotlib as plt\n",
        "\n",
        "lista =[]\n",
        "\n",
        "a = 81;\n",
        "c = 89;\n",
        "m = 10**2;\n",
        "x_0 = 5;\n",
        "n =102;\n",
        "i=0;\n",
        "muestra = [];\n",
        "\n",
        "# Funcion Generadora\n",
        "def generador(a,c,m,x_0):\n",
        "        x= (a*x_0 + c) % m;\n",
        "        return x;\n",
        "\n",
        "# Imprime las n iteraciones de la funcion\n",
        "for i in range(n):\n",
        "    x_0 = generador(a,c,m,x_0);\n",
        "    lista.append(x_0/m);\n",
        "\n",
        "print(lista);"
      ],
      "metadata": {
        "id": "_zt_V6fQGNjC",
        "outputId": "5dafb87d-e155-46af-9acd-a0dd2651373e",
        "colab": {
          "base_uri": "https://localhost:8080/"
        }
      },
      "execution_count": 13,
      "outputs": [
        {
          "output_type": "stream",
          "name": "stdout",
          "text": [
            "[0.94, 0.03, 0.32, 0.81, 0.5, 0.39, 0.48, 0.77, 0.26, 0.95, 0.84, 0.93, 0.22, 0.71, 0.4, 0.29, 0.38, 0.67, 0.16, 0.85, 0.74, 0.83, 0.12, 0.61, 0.3, 0.19, 0.28, 0.57, 0.06, 0.75, 0.64, 0.73, 0.02, 0.51, 0.2, 0.09, 0.18, 0.47, 0.96, 0.65, 0.54, 0.63, 0.92, 0.41, 0.1, 0.99, 0.08, 0.37, 0.86, 0.55, 0.44, 0.53, 0.82, 0.31, 0.0, 0.89, 0.98, 0.27, 0.76, 0.45, 0.34, 0.43, 0.72, 0.21, 0.9, 0.79, 0.88, 0.17, 0.66, 0.35, 0.24, 0.33, 0.62, 0.11, 0.8, 0.69, 0.78, 0.07, 0.56, 0.25, 0.14, 0.23, 0.52, 0.01, 0.7, 0.59, 0.68, 0.97, 0.46, 0.15, 0.04, 0.13, 0.42, 0.91, 0.6, 0.49, 0.58, 0.87, 0.36, 0.05, 0.94, 0.03]\n"
          ]
        }
      ]
    }
  ]
}