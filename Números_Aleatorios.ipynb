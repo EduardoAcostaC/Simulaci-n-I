{
  "nbformat": 4,
  "nbformat_minor": 0,
  "metadata": {
    "colab": {
      "provenance": [],
      "authorship_tag": "ABX9TyPyEguHHImN5z7NeI7WR8mi",
      "include_colab_link": true
    },
    "kernelspec": {
      "name": "python3",
      "display_name": "Python 3"
    },
    "language_info": {
      "name": "python"
    }
  },
  "cells": [
    {
      "cell_type": "markdown",
      "metadata": {
        "id": "view-in-github",
        "colab_type": "text"
      },
      "source": [
        "<a href=\"https://colab.research.google.com/github/EduardoAcostaC/Simulacion-I/blob/main/N%C3%BAmeros_Aleatorios.ipynb\" target=\"_parent\"><img src=\"https://colab.research.google.com/assets/colab-badge.svg\" alt=\"Open In Colab\"/></a>"
      ]
    },
    {
      "cell_type": "markdown",
      "source": [
        "** Numeros aleatorios **"
      ],
      "metadata": {
        "id": "JGxShSKGVo4C"
      }
    },
    {
      "cell_type": "markdown",
      "source": [
        "Generador Congruencial \\\n",
        "*$x_{n+1} =  (a*x_n + c) \\mod m $ * \\\\\n",
        "${x_0}, a, c, m$ son constantes enteras."
      ],
      "metadata": {
        "id": "Cqpzh6tAZPZ_"
      }
    },
    {
      "cell_type": "code",
      "source": [
        "import pandas as pd\n",
        "import tabulate as tb\n",
        "\n",
        "a = 16;\n",
        "c = 203;\n",
        "m = 22;\n",
        "x_0 = 3;\n",
        "n = 30;\n",
        "i=0;\n",
        "muestra = [];\n",
        "\n",
        "# Funcion Generadora\n",
        "def generador(a,c,m,x_0):\n",
        "        x= (a*x_0 + c) % m;\n",
        "        return x;\n",
        "\n",
        "# Solo imprime una iteracion\n",
        "print(generador(a,c,m,x_0));\n",
        "\n",
        "# Imprime las n iteraciones de la funcion\n",
        "for i in range(n):\n",
        "    x_0 = generador(a,c,m,x_0);\n",
        "    print(x_0);\n",
        "\n",
        "# Por iteracion\n",
        "for i in range(n):\n",
        "    x_1 = (a*x_0 + c) % m;\n",
        "    x_0 = x_1;\n",
        "    print(x_1);\n",
        "\n",
        "# Por arreglo en pandas\n",
        "for i in range(n):\n",
        "    nuevo = generador(a,c,m,x_0);\n",
        "    muestra.append([i,x_0,nuevo,nuevo/m]);\n",
        "    x_0 = nuevo;\n",
        "\n",
        "df = pd.DataFrame(muestra, columns= [\"Iteracion\", \"Xn\", \"X_n+1\", \"Xn/m\"]);\n",
        "print(df);\n",
        "\n",
        "# Por areglo en Tabulate\n",
        "# for i in range(n):\n",
        "#     nuevo = generador(a,c,m,x_0);\n",
        "#     muestra.append([i,x_0,nuevo/m]);\n",
        "#     x_0 = nuevo;\n",
        "# encabezados = [\"i\", \"X_i\", \"X_i+1\"];\n",
        "# print(tb.tabulate(muestra, headers=encabezados, tablefmt=\"fancy_grid\"));\n",
        "\n"
      ],
      "metadata": {
        "colab": {
          "base_uri": "https://localhost:8080/"
        },
        "id": "zGnMXt3SbxzG",
        "outputId": "5c7e922e-a8df-49fb-f864-c2d941f1ee98"
      },
      "execution_count": 51,
      "outputs": [
        {
          "output_type": "stream",
          "name": "stdout",
          "text": [
            "9\n",
            "9\n",
            "17\n",
            "13\n",
            "15\n",
            "3\n",
            "9\n",
            "17\n",
            "13\n",
            "15\n",
            "3\n",
            "9\n",
            "17\n",
            "13\n",
            "15\n",
            "3\n",
            "9\n",
            "17\n",
            "13\n",
            "15\n",
            "3\n",
            "9\n",
            "17\n",
            "13\n",
            "15\n",
            "3\n",
            "9\n",
            "17\n",
            "13\n",
            "15\n",
            "3\n",
            "9\n",
            "17\n",
            "13\n",
            "15\n",
            "3\n",
            "9\n",
            "17\n",
            "13\n",
            "15\n",
            "3\n",
            "9\n",
            "17\n",
            "13\n",
            "15\n",
            "3\n",
            "9\n",
            "17\n",
            "13\n",
            "15\n",
            "3\n",
            "9\n",
            "17\n",
            "13\n",
            "15\n",
            "3\n",
            "9\n",
            "17\n",
            "13\n",
            "15\n",
            "3\n",
            "    Iteracion  Xn  X_n+1      Xn/m\n",
            "0           0   3      9  0.409091\n",
            "1           1   9     17  0.772727\n",
            "2           2  17     13  0.590909\n",
            "3           3  13     15  0.681818\n",
            "4           4  15      3  0.136364\n",
            "5           5   3      9  0.409091\n",
            "6           6   9     17  0.772727\n",
            "7           7  17     13  0.590909\n",
            "8           8  13     15  0.681818\n",
            "9           9  15      3  0.136364\n",
            "10         10   3      9  0.409091\n",
            "11         11   9     17  0.772727\n",
            "12         12  17     13  0.590909\n",
            "13         13  13     15  0.681818\n",
            "14         14  15      3  0.136364\n",
            "15         15   3      9  0.409091\n",
            "16         16   9     17  0.772727\n",
            "17         17  17     13  0.590909\n",
            "18         18  13     15  0.681818\n",
            "19         19  15      3  0.136364\n",
            "20         20   3      9  0.409091\n",
            "21         21   9     17  0.772727\n",
            "22         22  17     13  0.590909\n",
            "23         23  13     15  0.681818\n",
            "24         24  15      3  0.136364\n",
            "25         25   3      9  0.409091\n",
            "26         26   9     17  0.772727\n",
            "27         27  17     13  0.590909\n",
            "28         28  13     15  0.681818\n",
            "29         29  15      3  0.136364\n"
          ]
        }
      ]
    }
  ]
}